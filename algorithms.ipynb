{
 "metadata": {
  "language_info": {
   "codemirror_mode": {
    "name": "ipython",
    "version": 3
   },
   "file_extension": ".py",
   "mimetype": "text/x-python",
   "name": "python",
   "nbconvert_exporter": "python",
   "pygments_lexer": "ipython3",
   "version": "3.9.4"
  },
  "orig_nbformat": 4,
  "kernelspec": {
   "name": "python3",
   "display_name": "Python 3.9.4 64-bit"
  },
  "interpreter": {
   "hash": "ac59ebe37160ed0dfa835113d9b8498d9f09ceb179beaac4002f036b9467c963"
  }
 },
 "nbformat": 4,
 "nbformat_minor": 2,
 "cells": [
  {
   "cell_type": "code",
   "execution_count": 17,
   "metadata": {},
   "outputs": [],
   "source": [
    "def findSmallest(arr):\n",
    "    i=0\n",
    "    smallest = arr[i]\n",
    "\n",
    "    for j in range(1, len(arr)):\n",
    "        if arr[j] < smallest:\n",
    "            smallest = arr[j]\n",
    "            i=j\n",
    "    return i\n",
    "\n",
    "def insertionSort(arr):\n",
    "    new_sort = []\n",
    "    for i in range(len(arr)):\n",
    "        smallest = findSmallest(arr)\n",
    "        new_sort.append(arr.pop(smallest))\n",
    "\n",
    "    return new_sort\n",
    "\n"
   ]
  },
  {
   "cell_type": "code",
   "execution_count": 20,
   "metadata": {},
   "outputs": [
    {
     "output_type": "execute_result",
     "data": {
      "text/plain": [
       "[-1, 0, 2, 2, 4, 5, 6, 7, 8, 8]"
      ]
     },
     "metadata": {},
     "execution_count": 20
    }
   ],
   "source": [
    "insertionSort([2, 4, 6, 8, 2, 5, 0, 8, -1, 7])"
   ]
  },
  {
   "cell_type": "code",
   "execution_count": 6,
   "metadata": {},
   "outputs": [
    {
     "output_type": "execute_result",
     "data": {
      "text/plain": [
       "40320"
      ]
     },
     "metadata": {},
     "execution_count": 6
    }
   ],
   "source": [
    "def factorial(num):\n",
    "    if num == 1 or num == 0:\n",
    "        return 1\n",
    "    else:\n",
    "        return num * factorial(num - 1)   \n",
    "factorial(8)"
   ]
  },
  {
   "cell_type": "code",
   "execution_count": 43,
   "metadata": {},
   "outputs": [
    {
     "output_type": "execute_result",
     "data": {
      "text/plain": [
       "78"
      ]
     },
     "metadata": {},
     "execution_count": 43
    }
   ],
   "source": [
    "# Writing a recursive sum function\n",
    "def sum(arr):\n",
    "    if len(arr) == 0:\n",
    "        return 0\n",
    "    return arr[0] + sum(arr[1:])\n",
    "sum([1, 2, 5])\n",
    "\n",
    "# Writing a recursive function that counts number of items in a list\n",
    "def count(arr):\n",
    "    if len(arr) == 0:\n",
    "        return 0\n",
    "    arr.pop()\n",
    "    return 1 + count(arr)\n",
    "count([1, 2, 3, 1, 8])\n",
    "\n",
    "\n",
    "# Writing a recursive function that finds the max number on a list\n",
    "def find_max(arr):\n",
    "    if len(arr) == 1:\n",
    "        return arr[0]\n",
    "    if arr[1] > arr[0]:\n",
    "        return find_max(arr[1:])\n",
    "    else:\n",
    "        higher_val = arr[0]\n",
    "        arr[1] = higher_val\n",
    "        return find_max(arr[1:])\n",
    "find_max([10, 2, 9, 1, 21, 5, 56, 78, 12, 19, 23, 8])\n"
   ]
  },
  {
   "cell_type": "code",
   "execution_count": 44,
   "metadata": {},
   "outputs": [],
   "source": [
    "def greet(name):\n",
    "    print(f'hello {name}')\n",
    "    greet2(name)\n",
    "    bye()\n",
    "def greet2(name):\n",
    "    print(f'how are you {name}')\n",
    "    \n",
    "def bye():\n",
    "    print('okay, bye')"
   ]
  },
  {
   "cell_type": "code",
   "execution_count": 22,
   "metadata": {},
   "outputs": [
    {
     "output_type": "stream",
     "name": "stdout",
     "text": [
      "hello Maggie\nhow are you Maggie\nokay, bye\n"
     ]
    }
   ],
   "source": [
    "greet('Maggie')"
   ]
  },
  {
   "cell_type": "code",
   "execution_count": 46,
   "metadata": {},
   "outputs": [
    {
     "output_type": "execute_result",
     "data": {
      "text/plain": [
       "[0, 1, 2, 3, 6, 18, 34]"
      ]
     },
     "metadata": {},
     "execution_count": 46
    }
   ],
   "source": [
    "def quicksort(arr):\n",
    "    if len(arr) < 1:\n",
    "        return arr\n",
    "    pivot = arr.pop()\n",
    "    left_arr = []\n",
    "    right_arr = []\n",
    "    for item in arr:\n",
    "        if item < pivot:\n",
    "            left_arr.append(item)\n",
    "        else:\n",
    "            right_arr.append(item)\n",
    "    \n",
    "    return quicksort(left_arr) + [pivot] + quicksort(right_arr)\n",
    "\n",
    "quicksort([2, 3, 1, 6, 34, 0, 18])"
   ]
  },
  {
   "cell_type": "code",
   "execution_count": 5,
   "metadata": {},
   "outputs": [],
   "source": [
    "def gcd(reduce, denom):\n",
    "    while reduce != 0:\n",
    "        if denom == 0:\n",
    "            return reduce\n",
    "        hold_denom = denom\n",
    "        denom = reduce % denom\n",
    "        reduce = hold_denom\n",
    "  \n",
    "\n",
    "\n",
    "def recursive_gcd(big, small):\n",
    "    if small == 0:\n",
    "        return big\n",
    "    return recursive_gcd(small, big % small)\n",
    "\n",
    "\n",
    "recursive_gcd(80, 32)\n",
    "voted = {}"
   ]
  },
  {
   "cell_type": "code",
   "execution_count": 7,
   "metadata": {},
   "outputs": [
    {
     "output_type": "execute_result",
     "data": {
      "text/plain": [
       "'Sam already voted'"
      ]
     },
     "metadata": {},
     "execution_count": 7
    }
   ],
   "source": [
    "\n",
    "def voted_yet(name):\n",
    "    \n",
    "    if name in voted.keys():\n",
    "        return f'{name} already voted'\n",
    "    else:\n",
    "        voted[name] = True\n",
    "        return f'allow {name} to vote'\n",
    "\n",
    "voted_yet('Sam')\n"
   ]
  },
  {
   "cell_type": "code",
   "execution_count": 4,
   "metadata": {},
   "outputs": [
    {
     "output_type": "execute_result",
     "data": {
      "text/plain": [
       "[2, 6, 10]"
      ]
     },
     "metadata": {},
     "execution_count": 4
    }
   ],
   "source": [
    "#Breadth first search\n",
    "list(map(lambda x : x * 2, [1, 3, 5]))"
   ]
  },
  {
   "cell_type": "code",
   "execution_count": 2,
   "metadata": {},
   "outputs": [],
   "source": [
    "graph = {}\n",
    "graph['you'] = ['NMarv', 'Gozie', 'Sam']\n",
    "graph['NMarv'] = ['MChrisent']\n",
    "graph['Gozie'] = ['Ikenna']\n",
    "graph['Ikenna'] = []\n",
    "graph['MChrisent'] = ['you']\n",
    "graph['Sam'] = ['Wilson', 'MChrisent']\n",
    "graph['Wilson'] = ['John']\n",
    "graph['John'] = ['Sam', 'MChrisent']\n"
   ]
  },
  {
   "cell_type": "code",
   "execution_count": 3,
   "metadata": {},
   "outputs": [],
   "source": [
    "from collections import *"
   ]
  },
  {
   "cell_type": "code",
   "execution_count": 4,
   "metadata": {},
   "outputs": [],
   "source": [
    "\n",
    "def search_mango_seller():\n",
    "    search_queue = deque()\n",
    "    search_queue += graph['you']\n",
    "    print(search_queue)\n",
    "    while search_queue:\n",
    "        #print(search_queue)\n",
    "        person = search_queue.popleft()\n",
    "        print(person)\n",
    "        if person_is_seller(person):\n",
    "            print(f'{person} is seller')\n",
    "            return\n",
    "        else:\n",
    "            search_queue += graph[person]\n",
    "    return False\n",
    "\n",
    "def person_is_seller(person):\n",
    "    return person[0] == 'M'"
   ]
  },
  {
   "cell_type": "code",
   "execution_count": 5,
   "metadata": {},
   "outputs": [
    {
     "output_type": "stream",
     "name": "stdout",
     "text": [
      "deque(['NMarv', 'Gozie', 'Sam'])\nNMarv\nGozie\nSam\nMChrisent\nMChrisent is seller\n"
     ]
    }
   ],
   "source": [
    "search_mango_seller()"
   ]
  },
  {
   "cell_type": "code",
   "execution_count": 6,
   "metadata": {},
   "outputs": [
    {
     "output_type": "stream",
     "name": "stdout",
     "text": [
      "[2, 6, 10, 14]\n"
     ]
    }
   ],
   "source": [
    "x = [1, 3, 5, 7]\n",
    "print([j*2 for j in x ])"
   ]
  },
  {
   "cell_type": "code",
   "execution_count": 7,
   "metadata": {},
   "outputs": [
    {
     "output_type": "stream",
     "name": "stdout",
     "text": [
      "NMarv starts with N. found after 6 searches\n"
     ]
    }
   ],
   "source": [
    "def breadth_first_search(name, search_for):\n",
    "    if description_fits(name, search_for):\n",
    "        return f'{name} already starts with {search_for}'\n",
    "    from collections import deque\n",
    "    queue = deque()\n",
    "    count = 1\n",
    "    if name in graph.keys():\n",
    "        queue += graph[name]\n",
    "        searched = []\n",
    "\n",
    "        while queue:\n",
    "            person = queue.popleft()\n",
    "            if person not in searched:\n",
    "                if description_fits(person, search_for):\n",
    "                    print(f'{person} starts with {search_for}. found after {count} searches')\n",
    "                    return \n",
    "                else:\n",
    "                    count += 1\n",
    "                    searched.append(person)\n",
    "                    persons_network = graph[person]\n",
    "                    queue += persons_network\n",
    "        return f'item not found after {count} searches'\n",
    "    return 'name not in network'\n",
    "\n",
    "def description_fits(person, search_for):\n",
    "    if person.startswith(search_for):\n",
    "        return True\n",
    "    else:\n",
    "        return False\n",
    "\n",
    "\n",
    "breadth_first_search('John', 'N')\n",
    "#graph\n"
   ]
  },
  {
   "cell_type": "code",
   "execution_count": 8,
   "metadata": {},
   "outputs": [
    {
     "output_type": "execute_result",
     "data": {
      "text/plain": [
       "{'you': ['NMarv', 'Gozie', 'Sam'],\n",
       " 'NMarv': ['MChrisent'],\n",
       " 'Gozie': ['Ikenna'],\n",
       " 'Ikenna': [],\n",
       " 'MChrisent': ['you'],\n",
       " 'Sam': ['Wilson', 'MChrisent'],\n",
       " 'Wilson': ['John'],\n",
       " 'John': ['Sam', 'MChrisent']}"
      ]
     },
     "metadata": {},
     "execution_count": 8
    }
   ],
   "source": [
    "graph"
   ]
  },
  {
   "cell_type": "code",
   "execution_count": 9,
   "metadata": {},
   "outputs": [],
   "source": [
    "def bfs(s, graph, search):\n",
    "    level = {s: 0}\n",
    "    parents = {s: None}\n",
    "    i = 1\n",
    "    frontier = [s]\n",
    "    items = []\n",
    "    while frontier:\n",
    "        next = []\n",
    "        for u in frontier:\n",
    "            for v in graph[u]:\n",
    "                if v not in level:\n",
    "                    \n",
    "                    level[v] = i\n",
    "                    parents[v] = u\n",
    "                    next.append(v)\n",
    "                    if v == search:\n",
    "                        return {'name': v, 'parents': parents, 'level': i, 'next': next, 'frontier': frontier}\n",
    "                    items.append({'name': v, 'parents': parents, 'level': i, 'next': next})\n",
    "        i += 1\n",
    "        frontier = next\n",
    "    return None"
   ]
  },
  {
   "cell_type": "code",
   "execution_count": 10,
   "metadata": {},
   "outputs": [
    {
     "output_type": "execute_result",
     "data": {
      "text/plain": [
       "{'name': 'John',\n",
       " 'parents': {'you': None,\n",
       "  'NMarv': 'you',\n",
       "  'Gozie': 'you',\n",
       "  'Sam': 'you',\n",
       "  'MChrisent': 'NMarv',\n",
       "  'Ikenna': 'Gozie',\n",
       "  'Wilson': 'Sam',\n",
       "  'John': 'Wilson'},\n",
       " 'level': 3,\n",
       " 'next': ['John'],\n",
       " 'frontier': ['MChrisent', 'Ikenna', 'Wilson']}"
      ]
     },
     "metadata": {},
     "execution_count": 10
    }
   ],
   "source": [
    "bfs('you', graph, 'John')"
   ]
  },
  {
   "cell_type": "code",
   "execution_count": 11,
   "metadata": {},
   "outputs": [
    {
     "output_type": "execute_result",
     "data": {
      "text/plain": [
       "{'you': ['NMarv', 'Gozie', 'Sam'],\n",
       " 'NMarv': ['MChrisent'],\n",
       " 'Gozie': ['Ikenna'],\n",
       " 'Ikenna': [],\n",
       " 'MChrisent': ['you'],\n",
       " 'Sam': ['Wilson', 'MChrisent'],\n",
       " 'Wilson': ['John'],\n",
       " 'John': ['Sam', 'MChrisent']}"
      ]
     },
     "metadata": {},
     "execution_count": 11
    }
   ],
   "source": [
    "graph"
   ]
  },
  {
   "cell_type": "code",
   "execution_count": 12,
   "metadata": {},
   "outputs": [],
   "source": [
    "def breadth_first_search(start_item, graph, search_data):\n",
    "    level = {start_item: 0}\n",
    "    parents = {start_item: None}\n",
    "    search_through = [start_item]\n",
    "    i = 1\n",
    "    while search_through:\n",
    "        search_next = []\n",
    "        for item in search_through:\n",
    "            for child_item in graph[item]:\n",
    "                if child_item not in level:\n",
    "                    level[child_item] = i\n",
    "                    parents[child_item] = item\n",
    "                    search_next.append(child_item)\n",
    "                    if search_data == child_item:\n",
    "                        return {'name': child_item, 'parents': parents[search_data], 'level': i, 'search_next': search_next, 'search_through': search_through}\n",
    "        i += 1\n",
    "        search_through = search_next"
   ]
  },
  {
   "cell_type": "code",
   "execution_count": 13,
   "metadata": {},
   "outputs": [
    {
     "output_type": "execute_result",
     "data": {
      "text/plain": [
       "{'name': 'Wilson',\n",
       " 'parents': 'Sam',\n",
       " 'level': 2,\n",
       " 'search_next': ['MChrisent', 'Ikenna', 'Wilson'],\n",
       " 'search_through': ['NMarv', 'Gozie', 'Sam']}"
      ]
     },
     "metadata": {},
     "execution_count": 13
    }
   ],
   "source": [
    "breadth_first_search('you', graph, 'Wilson')"
   ]
  },
  {
   "cell_type": "code",
   "execution_count": 14,
   "metadata": {},
   "outputs": [
    {
     "output_type": "stream",
     "name": "stdout",
     "text": [
      "{'0': 0, '1': 1, '2': 4, '3': 9, '4': 16, '5': 25, '6': 36, '7': 49, '8': 64, '9': 81}\n"
     ]
    }
   ],
   "source": [
    "sqr_till_10 = {str(i): i**2 for i in range(10)}\n",
    "print(sqr_till_10)"
   ]
  },
  {
   "cell_type": "code",
   "execution_count": 34,
   "metadata": {},
   "outputs": [
    {
     "output_type": "execute_result",
     "data": {
      "text/plain": [
       "'360954 is dividable by 9'"
      ]
     },
     "metadata": {},
     "execution_count": 34
    }
   ],
   "source": [
    "[0, 9, 18, 27]\n",
    "def divisible_by_9(num):\n",
    "    dividables = [0, 9, 18, 27, 36, 45, 54, 63]\n",
    "    get = str(num)\n",
    "    sum = 0\n",
    "    for i in get:\n",
    "        sum += int(i)\n",
    "    if sum in dividables:\n",
    "        return f'{num} is dividable by 9'\n",
    "    return f'{num} is non divisible by 9'\n",
    "divisible_by_9(360954)\n"
   ]
  },
  {
   "cell_type": "code",
   "execution_count": 33,
   "metadata": {},
   "outputs": [
    {
     "output_type": "execute_result",
     "data": {
      "text/plain": [
       "40106.0"
      ]
     },
     "metadata": {},
     "execution_count": 33
    }
   ],
   "source": [
    "360954/9"
   ]
  },
  {
   "cell_type": "code",
   "execution_count": null,
   "metadata": {},
   "outputs": [],
   "source": []
  },
  {
   "cell_type": "code",
   "execution_count": null,
   "metadata": {},
   "outputs": [],
   "source": []
  },
  {
   "cell_type": "code",
   "execution_count": null,
   "metadata": {},
   "outputs": [],
   "source": []
  },
  {
   "cell_type": "code",
   "execution_count": null,
   "metadata": {},
   "outputs": [],
   "source": []
  },
  {
   "cell_type": "code",
   "execution_count": null,
   "metadata": {},
   "outputs": [],
   "source": []
  },
  {
   "cell_type": "code",
   "execution_count": null,
   "metadata": {},
   "outputs": [],
   "source": []
  },
  {
   "cell_type": "code",
   "execution_count": null,
   "metadata": {},
   "outputs": [],
   "source": []
  },
  {
   "cell_type": "code",
   "execution_count": null,
   "metadata": {},
   "outputs": [],
   "source": []
  },
  {
   "cell_type": "code",
   "execution_count": null,
   "metadata": {},
   "outputs": [],
   "source": []
  },
  {
   "cell_type": "code",
   "execution_count": null,
   "metadata": {},
   "outputs": [],
   "source": []
  },
  {
   "cell_type": "code",
   "execution_count": null,
   "metadata": {},
   "outputs": [],
   "source": []
  },
  {
   "cell_type": "code",
   "execution_count": null,
   "metadata": {},
   "outputs": [],
   "source": []
  },
  {
   "cell_type": "code",
   "execution_count": null,
   "metadata": {},
   "outputs": [],
   "source": []
  },
  {
   "cell_type": "code",
   "execution_count": null,
   "metadata": {},
   "outputs": [],
   "source": []
  },
  {
   "cell_type": "code",
   "execution_count": null,
   "metadata": {},
   "outputs": [],
   "source": []
  },
  {
   "cell_type": "code",
   "execution_count": null,
   "metadata": {},
   "outputs": [],
   "source": []
  },
  {
   "cell_type": "code",
   "execution_count": null,
   "metadata": {},
   "outputs": [],
   "source": []
  }
 ]
}